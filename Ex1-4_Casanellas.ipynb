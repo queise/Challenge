{
 "cells": [
  {
   "cell_type": "code",
   "execution_count": 1,
   "metadata": {
    "collapsed": false
   },
   "outputs": [],
   "source": [
    "import os\n",
    "import bz2\n",
    "import numpy as np\n",
    "import pandas as pd\n",
    "pd.options.mode.chained_assignment = None\n",
    "from GeoBases import GeoBase\n",
    "import matplotlib.pyplot as plt\n",
    "import seaborn as sns\n",
    "%matplotlib inline"
   ]
  },
  {
   "cell_type": "markdown",
   "metadata": {},
   "source": [
    "---\n",
    "# First exercise\n",
    "> *Count the number of lines in Python for each file*"
   ]
  },
  {
   "cell_type": "code",
   "execution_count": 2,
   "metadata": {
    "collapsed": false
   },
   "outputs": [],
   "source": [
    "data_dir = \"/data/storage/projects/TravelAudience/\"\n",
    "data_files = ['bookings.csv.bz2', 'searches.csv.bz2']"
   ]
  },
  {
   "cell_type": "markdown",
   "metadata": {},
   "source": [
    "We count the lines without the need of creating a decompressed file:"
   ]
  },
  {
   "cell_type": "code",
   "execution_count": 3,
   "metadata": {
    "collapsed": false
   },
   "outputs": [
    {
     "name": "stdout",
     "output_type": "stream",
     "text": [
      "Number of lines in file bookings.csv.bz2: \t 10000011\n",
      "Number of lines in file searches.csv.bz2: \t 20390199\n"
     ]
    }
   ],
   "source": [
    "for filename in data_files:\n",
    "    filepath = os.path.join(data_dir, filename)\n",
    "    with bz2.BZ2File(filepath, \"r\") as myfile:\n",
    "        count = sum(1 for line in myfile)\n",
    "        print(\"Number of lines in file %s: \\t %i\" %(filename,count))"
   ]
  },
  {
   "cell_type": "markdown",
   "metadata": {},
   "source": [
    "---\n",
    "# Second exercise\n",
    "> *Top 10 arrival airports in the world in 2013 (using the bookings file)*"
   ]
  },
  {
   "cell_type": "markdown",
   "metadata": {},
   "source": [
    "First, we read only 2 lines to better understand the meaning and format of the features:"
   ]
  },
  {
   "cell_type": "code",
   "execution_count": 4,
   "metadata": {
    "collapsed": false
   },
   "outputs": [
    {
     "data": {
      "text/html": [
       "<div>\n",
       "<table border=\"1\" class=\"dataframe\">\n",
       "  <thead>\n",
       "    <tr style=\"text-align: right;\">\n",
       "      <th></th>\n",
       "      <th>act_date</th>\n",
       "      <th>source</th>\n",
       "      <th>pos_ctry</th>\n",
       "      <th>pos_iata</th>\n",
       "      <th>pos_oid</th>\n",
       "      <th>rloc</th>\n",
       "      <th>cre_date</th>\n",
       "      <th>duration</th>\n",
       "      <th>distance</th>\n",
       "      <th>dep_port</th>\n",
       "      <th>...</th>\n",
       "      <th>route</th>\n",
       "      <th>carrier</th>\n",
       "      <th>bkg_class</th>\n",
       "      <th>cab_class</th>\n",
       "      <th>brd_time</th>\n",
       "      <th>off_time</th>\n",
       "      <th>pax</th>\n",
       "      <th>year</th>\n",
       "      <th>month</th>\n",
       "      <th>oid</th>\n",
       "    </tr>\n",
       "  </thead>\n",
       "  <tbody>\n",
       "    <tr>\n",
       "      <th>0</th>\n",
       "      <td>2013-03-05 00:00:00</td>\n",
       "      <td>1A</td>\n",
       "      <td>DE</td>\n",
       "      <td>a68dd7ae953c8acfb187a1af2dcbe123</td>\n",
       "      <td>1a11ae49fcbf545fd2afc1a24d88d2b7</td>\n",
       "      <td>ea65900e72d71f4626378e2ebd298267</td>\n",
       "      <td>2013-02-22 00:00:00</td>\n",
       "      <td>1708</td>\n",
       "      <td>0</td>\n",
       "      <td>ZRH</td>\n",
       "      <td>...</td>\n",
       "      <td>LHRZRH</td>\n",
       "      <td>VI</td>\n",
       "      <td>T</td>\n",
       "      <td>Y</td>\n",
       "      <td>2013-03-07 08:50:00</td>\n",
       "      <td>2013-03-07 11:33:37</td>\n",
       "      <td>-1</td>\n",
       "      <td>2013</td>\n",
       "      <td>3</td>\n",
       "      <td>NULL</td>\n",
       "    </tr>\n",
       "    <tr>\n",
       "      <th>1</th>\n",
       "      <td>2013-03-26 00:00:00</td>\n",
       "      <td>1A</td>\n",
       "      <td>US</td>\n",
       "      <td>e612b9eeeee6f17f42d9b0d3b79e75ca</td>\n",
       "      <td>7437560d8f276d6d05eeb806d9e7edee</td>\n",
       "      <td>737295a86982c941f1c2da9a46a14043</td>\n",
       "      <td>2013-03-26 00:00:00</td>\n",
       "      <td>135270</td>\n",
       "      <td>0</td>\n",
       "      <td>SAL</td>\n",
       "      <td>...</td>\n",
       "      <td>SALATLCLT</td>\n",
       "      <td>NV</td>\n",
       "      <td>L</td>\n",
       "      <td>Y</td>\n",
       "      <td>2013-04-12 13:04:00</td>\n",
       "      <td>2013-04-12 22:05:40</td>\n",
       "      <td>1</td>\n",
       "      <td>2013</td>\n",
       "      <td>3</td>\n",
       "      <td>NULL</td>\n",
       "    </tr>\n",
       "  </tbody>\n",
       "</table>\n",
       "<p>2 rows × 38 columns</p>\n",
       "</div>"
      ],
      "text/plain": [
       "   act_date             source  pos_ctry                          pos_iata  \\\n",
       "0  2013-03-05 00:00:00  1A      DE        a68dd7ae953c8acfb187a1af2dcbe123   \n",
       "1  2013-03-26 00:00:00  1A      US        e612b9eeeee6f17f42d9b0d3b79e75ca   \n",
       "\n",
       "                          pos_oid                      rloc            \\\n",
       "0  1a11ae49fcbf545fd2afc1a24d88d2b7  ea65900e72d71f4626378e2ebd298267   \n",
       "1  7437560d8f276d6d05eeb806d9e7edee  737295a86982c941f1c2da9a46a14043   \n",
       "\n",
       "   cre_date             duration  distance  dep_port    ...      \\\n",
       "0  2013-02-22 00:00:00      1708         0  ZRH         ...       \n",
       "1  2013-03-26 00:00:00    135270         0  SAL         ...       \n",
       "\n",
       "   route           carrier  bkg_class  cab_class  brd_time             \\\n",
       "0  LHRZRH               VI  T          Y          2013-03-07 08:50:00   \n",
       "1  SALATLCLT            NV  L          Y          2013-04-12 13:04:00   \n",
       "\n",
       "   off_time            pax  year month  oid        \n",
       "0  2013-03-07 11:33:37  -1  2013     3  NULL       \n",
       "1  2013-04-12 22:05:40   1  2013     3  NULL       \n",
       "\n",
       "[2 rows x 38 columns]"
      ]
     },
     "execution_count": 4,
     "metadata": {},
     "output_type": "execute_result"
    }
   ],
   "source": [
    "filepath = os.path.join(data_dir, data_files[0])\n",
    "dftemp = pd.read_csv(filepath, sep='^', compression='bz2', nrows=2)\n",
    "dftemp.head(2)"
   ]
  },
  {
   "cell_type": "code",
   "execution_count": 5,
   "metadata": {
    "collapsed": false
   },
   "outputs": [
    {
     "name": "stdout",
     "output_type": "stream",
     "text": [
      "['act_date           ' 'source' 'pos_ctry' 'pos_iata' 'pos_oid  '\n",
      " 'rloc          ' 'cre_date           ' 'duration' 'distance' 'dep_port'\n",
      " 'dep_city' 'dep_ctry' 'arr_port' 'arr_city' 'arr_ctry' 'lst_port'\n",
      " 'lst_city' 'lst_ctry' 'brd_port' 'brd_city' 'brd_ctry' 'off_port'\n",
      " 'off_city' 'off_ctry' 'mkt_port' 'mkt_city' 'mkt_ctry' 'intl'\n",
      " 'route          ' 'carrier' 'bkg_class' 'cab_class' 'brd_time           '\n",
      " 'off_time           ' 'pax' 'year' 'month' 'oid      ']\n"
     ]
    }
   ],
   "source": [
    "print dftemp.columns.values"
   ]
  },
  {
   "cell_type": "markdown",
   "metadata": {},
   "source": [
    "**We want to filter only the 2013 flights. To do that, we will use the feature *brd_time* ** instead of *act_date*, *cre_date* or *year*. After exploring the data, it seems that only *brd_time* (or *off_time*) contains information on the year that the flight took place. Features like *act_date*, *cre_date* and *year* are probably the date of the booking, not the flight.\n",
    "\n",
    "Now we read all the file, but only the specific columns we need (*act_date* and *dep_port* will only be used in Ex.4):"
   ]
  },
  {
   "cell_type": "code",
   "execution_count": 6,
   "metadata": {
    "collapsed": false
   },
   "outputs": [
    {
     "name": "stdout",
     "output_type": "stream",
     "text": [
      "total of 10000010 rows, 5 columns\n"
     ]
    },
    {
     "data": {
      "text/html": [
       "<div>\n",
       "<table border=\"1\" class=\"dataframe\">\n",
       "  <thead>\n",
       "    <tr style=\"text-align: right;\">\n",
       "      <th></th>\n",
       "      <th>act_date</th>\n",
       "      <th>dep_port</th>\n",
       "      <th>arr_port</th>\n",
       "      <th>brd_time</th>\n",
       "      <th>pax</th>\n",
       "    </tr>\n",
       "  </thead>\n",
       "  <tbody>\n",
       "    <tr>\n",
       "      <th>0</th>\n",
       "      <td>2013-03-05 00:00:00</td>\n",
       "      <td>ZRH</td>\n",
       "      <td>LHR</td>\n",
       "      <td>2013-03-07 08:50:00</td>\n",
       "      <td>-1</td>\n",
       "    </tr>\n",
       "    <tr>\n",
       "      <th>1</th>\n",
       "      <td>2013-03-26 00:00:00</td>\n",
       "      <td>SAL</td>\n",
       "      <td>CLT</td>\n",
       "      <td>2013-04-12 13:04:00</td>\n",
       "      <td>1</td>\n",
       "    </tr>\n",
       "    <tr>\n",
       "      <th>2</th>\n",
       "      <td>2013-03-26 00:00:00</td>\n",
       "      <td>SAL</td>\n",
       "      <td>CLT</td>\n",
       "      <td>2013-07-15 07:00:00</td>\n",
       "      <td>1</td>\n",
       "    </tr>\n",
       "    <tr>\n",
       "      <th>3</th>\n",
       "      <td>2013-03-26 00:00:00</td>\n",
       "      <td>AKL</td>\n",
       "      <td>SVO</td>\n",
       "      <td>2013-04-24 23:59:00</td>\n",
       "      <td>1</td>\n",
       "    </tr>\n",
       "    <tr>\n",
       "      <th>4</th>\n",
       "      <td>2013-03-26 00:00:00</td>\n",
       "      <td>AKL</td>\n",
       "      <td>SVO</td>\n",
       "      <td>2013-05-14 20:15:00</td>\n",
       "      <td>1</td>\n",
       "    </tr>\n",
       "  </tbody>\n",
       "</table>\n",
       "</div>"
      ],
      "text/plain": [
       "              act_date  dep_port  arr_port             brd_time  pax\n",
       "0  2013-03-05 00:00:00  ZRH       LHR       2013-03-07 08:50:00   -1\n",
       "1  2013-03-26 00:00:00  SAL       CLT       2013-04-12 13:04:00    1\n",
       "2  2013-03-26 00:00:00  SAL       CLT       2013-07-15 07:00:00    1\n",
       "3  2013-03-26 00:00:00  AKL       SVO       2013-04-24 23:59:00    1\n",
       "4  2013-03-26 00:00:00  AKL       SVO       2013-05-14 20:15:00    1"
      ]
     },
     "execution_count": 6,
     "metadata": {},
     "output_type": "execute_result"
    }
   ],
   "source": [
    "sel_cols = ['act_date           ', 'dep_port', 'arr_port', 'brd_time           ', 'pax']\n",
    "dfB = pd.read_csv(filepath, sep='^', usecols=sel_cols, compression='bz2')\n",
    "dfB.columns = [col.strip() for col in sel_cols] # removes white spaces in column names\n",
    "print(\"total of %i rows, %i columns\" % (dfB.shape[0],dfB.shape[1]))\n",
    "dfB.head()"
   ]
  },
  {
   "cell_type": "code",
   "execution_count": 7,
   "metadata": {
    "collapsed": false
   },
   "outputs": [
    {
     "name": "stdout",
     "output_type": "stream",
     "text": [
      "\n",
      "***** Columns with NULL data:\n",
      "\n",
      "pax               0.00001%\n",
      "\n",
      "***** The other 4 columns have NO NULL values :)\n",
      "\n"
     ]
    }
   ],
   "source": [
    "# percentage of null data in dataset:\n",
    "print(\"\\n***** Columns with NULL data:\\n\")\n",
    "n_cols_notnull = 0\n",
    "for col in sorted(list(dfB.columns)):\n",
    "    percent_null = float(dfB[col].isnull().sum()) / dfB.shape[0] * 100\n",
    "    if percent_null > 0:\n",
    "        print(\"{:15s}   {:.5f}%\".format(col, percent_null))\n",
    "    else:\n",
    "        n_cols_notnull += 1\n",
    "print(\"\\n***** The other %i columns have NO NULL values :)\\n\" % n_cols_notnull)"
   ]
  },
  {
   "cell_type": "code",
   "execution_count": 8,
   "metadata": {
    "collapsed": false
   },
   "outputs": [],
   "source": [
    "# we can safely drop the row with NaN:\n",
    "dfB = dfB.dropna()\n",
    "# from date-time to date:\n",
    "dfB['brd_time'] = dfB['brd_time'].apply(lambda x: x.split(' ')[0])\n",
    "dfB['act_date'] = dfB['act_date'].apply(lambda x: x.split(' ')[0])\n",
    "# year of flight and year of search:\n",
    "dfB['year_bt'] = dfB['brd_time'].apply(lambda x: x.split('-')[0])\n",
    "dfB['year_ad'] = dfB['act_date'].apply(lambda x: x.split('-')[0])\n",
    "# change dtypes:\n",
    "dfB['year_bt'] = dfB['year_bt'].astype('category')\n",
    "dfB['year_ad'] = dfB['year_ad'].astype('category')\n",
    "dfB['pax'] = dfB['pax'].astype(np.int16)"
   ]
  },
  {
   "cell_type": "markdown",
   "metadata": {},
   "source": [
    "Take a look at numerical features:"
   ]
  },
  {
   "cell_type": "code",
   "execution_count": 9,
   "metadata": {
    "collapsed": false
   },
   "outputs": [
    {
     "data": {
      "text/plain": [
       "count    10000009.000000\n",
       "mean            0.490880\n",
       "std             2.199173\n",
       "min           -90.000000\n",
       "25%            -1.000000\n",
       "50%             1.000000\n",
       "75%             1.000000\n",
       "max            99.000000\n",
       "Name: pax, dtype: float64"
      ]
     },
     "execution_count": 9,
     "metadata": {},
     "output_type": "execute_result"
    }
   ],
   "source": [
    "dfB['pax'].describe()"
   ]
  },
  {
   "cell_type": "markdown",
   "metadata": {},
   "source": [
    "Take a look at categorical features:"
   ]
  },
  {
   "cell_type": "code",
   "execution_count": 10,
   "metadata": {
    "collapsed": false
   },
   "outputs": [
    {
     "name": "stdout",
     "output_type": "stream",
     "text": [
      "****************\n",
      " Feature:  dep_port \n",
      "****************\n",
      "Number of uniques: 2147\n",
      "Categories    Counts\n",
      "----------    ------\n",
      "LHR         268410\n",
      "JFK         167800\n",
      "CDG         160950\n",
      "LAX         154620\n",
      "FRA         131310\n",
      "ORD         119070\n",
      "SYD         114410\n",
      "MAD         112570\n",
      "TLV         110540\n",
      "DXB         110370\n",
      "Name: dep_port, dtype: int64 \n",
      " (there are other 2137 categories not shown)\n",
      "\n",
      "\n",
      "****************\n",
      " Feature:  arr_port \n",
      "****************\n",
      "Number of uniques: 2274\n",
      "Categories    Counts\n",
      "----------    ------\n",
      "LHR         215551\n",
      "JFK         158930\n",
      "CDG         149390\n",
      "LAX         143220\n",
      "DXB         135640\n",
      "BKK         130420\n",
      "MIA         117820\n",
      "SFO         110970\n",
      "MNL         109530\n",
      "ORD          99750\n",
      "Name: arr_port, dtype: int64 \n",
      " (there are other 2264 categories not shown)\n",
      "\n",
      "\n",
      "****************\n",
      " Feature:  year_bt \n",
      "****************\n",
      "Number of uniques: 3\n",
      "Categories    Counts\n",
      "----------    ------\n",
      "2013    9357539\n",
      "2014     641940\n",
      "2012        530\n",
      "dtype: int64\n",
      "\n",
      "\n",
      "****************\n",
      " Feature:  year_ad \n",
      "****************\n",
      "Number of uniques: 1\n",
      "Categories    Counts\n",
      "----------    ------\n",
      "2013    10000009\n",
      "dtype: int64\n",
      "\n",
      "\n"
     ]
    }
   ],
   "source": [
    "Categ_cols = ['dep_port', 'arr_port', 'year_bt', 'year_ad']\n",
    "for col in Categ_cols:\n",
    "    n_un = len(dfB[col].unique())\n",
    "    print '****************\\n Feature: ',col,'\\n****************'\n",
    "    print 'Number of uniques:',n_un\n",
    "    print 'Categories    Counts\\n----------    ------'\n",
    "    if n_un>10:\n",
    "        print pd.value_counts(dfB[col])[:10],'\\n (there are other %i categories not shown)' % (n_un-10)\n",
    "    else:\n",
    "        print pd.value_counts(dfB[col])\n",
    "    print '\\n'"
   ]
  },
  {
   "cell_type": "markdown",
   "metadata": {},
   "source": [
    "Sum number of persons booked on 2013 flights grouped by arrival airport, and keep **the top 10 arrival airports**:"
   ]
  },
  {
   "cell_type": "code",
   "execution_count": 11,
   "metadata": {
    "collapsed": false
   },
   "outputs": [],
   "source": [
    "top10_airp = dfB[dfB['year_bt']=='2013'].groupby(['arr_port'])['pax'].sum()\n",
    "top10_airp = top10_airp.sort_values(ascending=False).head(10).to_frame().reset_index()"
   ]
  },
  {
   "cell_type": "code",
   "execution_count": 12,
   "metadata": {
    "collapsed": false
   },
   "outputs": [],
   "source": [
    "# remove unnecessary columns:\n",
    "dfB.drop(['pax','year_bt','year_ad'], axis=1, inplace=True)"
   ]
  },
  {
   "cell_type": "markdown",
   "metadata": {},
   "source": [
    "**Plot** the top 10 arrival airports of 2013:"
   ]
  },
  {
   "cell_type": "code",
   "execution_count": 13,
   "metadata": {
    "collapsed": false
   },
   "outputs": [
    {
     "data": {
      "text/plain": [
       "<matplotlib.text.Text at 0x7f74cf1e6a90>"
      ]
     },
     "execution_count": 13,
     "metadata": {},
     "output_type": "execute_result"
    },
    {
     "data": {
      "image/png": "[encoded data removed]",
      "text/plain": [
       "<matplotlib.figure.Figure at 0x7f758e626250>"
      ]
     },
     "metadata": {},
     "output_type": "display_data"
    }
   ],
   "source": [
    "fig, ax = plt.subplots(figsize=(10,4))\n",
    "x = np.arange(10)\n",
    "ax.bar(x, top10_airp.pax, color=sns.color_palette(\"Set1\", 10, desat=.5))\n",
    "ax.set_xticks(x + 0.5)\n",
    "ax.set_xticklabels(top10_airp.arr_port)\n",
    "ax.set_xlabel(\"Airport code\")\n",
    "ax.set_ylabel(\"Number of passengers\")\n",
    "ax.set_title(\"Top 10 arrival airports in the world in 2013\")"
   ]
  },
  {
   "cell_type": "markdown",
   "metadata": {},
   "source": [
    "We enrich the results with the **airport and city names** from GeoBase:"
   ]
  },
  {
   "cell_type": "code",
   "execution_count": 14,
   "metadata": {
    "collapsed": false
   },
   "outputs": [],
   "source": [
    "# remove whitespaces in beggining/end of string\n",
    "top10_airp['arr_port'] = top10_airp['arr_port'].apply(lambda x: x.strip())\n",
    "# load airport data from GeoBase:\n",
    "geo_o = GeoBase(data='ori_por', verbose=False)\n",
    "# new column with the name of the airport:\n",
    "top10_airp['airp_name'] = top10_airp.apply(lambda x: geo_o.get(x['arr_port'], 'name'), axis=1)\n",
    "# new column with the name of the city:\n",
    "top10_airp['city'] = top10_airp.apply(lambda x: geo_o.get(x['arr_port'], 'city_name_ascii'), axis=1)\n",
    "top10_airp.index += 1 # so the top 10 starts with 1 instead of 0"
   ]
  },
  {
   "cell_type": "markdown",
   "metadata": {},
   "source": [
    "And **print the results** in the standard output:"
   ]
  },
  {
   "cell_type": "code",
   "execution_count": 15,
   "metadata": {
    "collapsed": false
   },
   "outputs": [
    {
     "data": {
      "text/html": [
       "<div>\n",
       "<table border=\"1\" class=\"dataframe\">\n",
       "  <thead>\n",
       "    <tr style=\"text-align: right;\">\n",
       "      <th></th>\n",
       "      <th>arr_port</th>\n",
       "      <th>pax</th>\n",
       "      <th>airp_name</th>\n",
       "      <th>city</th>\n",
       "    </tr>\n",
       "  </thead>\n",
       "  <tbody>\n",
       "    <tr>\n",
       "      <th>1</th>\n",
       "      <td>LHR</td>\n",
       "      <td>81449</td>\n",
       "      <td>London Heathrow Airport</td>\n",
       "      <td>London</td>\n",
       "    </tr>\n",
       "    <tr>\n",
       "      <th>2</th>\n",
       "      <td>LAX</td>\n",
       "      <td>64240</td>\n",
       "      <td>Los Angeles International Airport</td>\n",
       "      <td>Los Angeles</td>\n",
       "    </tr>\n",
       "    <tr>\n",
       "      <th>3</th>\n",
       "      <td>LAS</td>\n",
       "      <td>63190</td>\n",
       "      <td>Mc Carran International Airport</td>\n",
       "      <td>Las Vegas</td>\n",
       "    </tr>\n",
       "    <tr>\n",
       "      <th>4</th>\n",
       "      <td>MCO</td>\n",
       "      <td>62300</td>\n",
       "      <td>Orlando International Airport</td>\n",
       "      <td>Orlando</td>\n",
       "    </tr>\n",
       "    <tr>\n",
       "      <th>5</th>\n",
       "      <td>JFK</td>\n",
       "      <td>60090</td>\n",
       "      <td>John F Kennedy International Airport</td>\n",
       "      <td>New York City</td>\n",
       "    </tr>\n",
       "    <tr>\n",
       "      <th>6</th>\n",
       "      <td>CDG</td>\n",
       "      <td>58100</td>\n",
       "      <td>Paris - Charles-de-Gaulle</td>\n",
       "      <td>Paris</td>\n",
       "    </tr>\n",
       "    <tr>\n",
       "      <th>7</th>\n",
       "      <td>SFO</td>\n",
       "      <td>53710</td>\n",
       "      <td>San Francisco International Airport</td>\n",
       "      <td>San Francisco</td>\n",
       "    </tr>\n",
       "    <tr>\n",
       "      <th>8</th>\n",
       "      <td>MIA</td>\n",
       "      <td>53020</td>\n",
       "      <td>Miami International Airport</td>\n",
       "      <td>Miami</td>\n",
       "    </tr>\n",
       "    <tr>\n",
       "      <th>9</th>\n",
       "      <td>BKK</td>\n",
       "      <td>52670</td>\n",
       "      <td>Suvarnabhumi</td>\n",
       "      <td>Bangkok</td>\n",
       "    </tr>\n",
       "    <tr>\n",
       "      <th>10</th>\n",
       "      <td>DXB</td>\n",
       "      <td>52250</td>\n",
       "      <td>Dubai International Airport</td>\n",
       "      <td>Dubai</td>\n",
       "    </tr>\n",
       "  </tbody>\n",
       "</table>\n",
       "</div>"
      ],
      "text/plain": [
       "   arr_port    pax                             airp_name           city\n",
       "1       LHR  81449               London Heathrow Airport         London\n",
       "2       LAX  64240     Los Angeles International Airport    Los Angeles\n",
       "3       LAS  63190       Mc Carran International Airport      Las Vegas\n",
       "4       MCO  62300         Orlando International Airport        Orlando\n",
       "5       JFK  60090  John F Kennedy International Airport  New York City\n",
       "6       CDG  58100             Paris - Charles-de-Gaulle          Paris\n",
       "7       SFO  53710   San Francisco International Airport  San Francisco\n",
       "8       MIA  53020           Miami International Airport          Miami\n",
       "9       BKK  52670                          Suvarnabhumi        Bangkok\n",
       "10      DXB  52250           Dubai International Airport          Dubai"
      ]
     },
     "execution_count": 15,
     "metadata": {},
     "output_type": "execute_result"
    }
   ],
   "source": [
    "top10_airp"
   ]
  },
  {
   "cell_type": "markdown",
   "metadata": {},
   "source": [
    "---\n",
    "# Third exercise\n",
    "> *Plot the monthly number of searches for flights arriving at Málaga, Madrid or Barcelona*\n"
   ]
  },
  {
   "cell_type": "code",
   "execution_count": 16,
   "metadata": {
    "collapsed": false
   },
   "outputs": [
    {
     "data": {
      "text/html": [
       "<div>\n",
       "<table border=\"1\" class=\"dataframe\">\n",
       "  <thead>\n",
       "    <tr style=\"text-align: right;\">\n",
       "      <th></th>\n",
       "      <th>Date</th>\n",
       "      <th>Time</th>\n",
       "      <th>TxnCode</th>\n",
       "      <th>OfficeID</th>\n",
       "      <th>Country</th>\n",
       "      <th>Origin</th>\n",
       "      <th>Destination</th>\n",
       "      <th>RoundTrip</th>\n",
       "      <th>NbSegments</th>\n",
       "      <th>Seg1Departure</th>\n",
       "      <th>...</th>\n",
       "      <th>Seg6Arrival</th>\n",
       "      <th>Seg6Date</th>\n",
       "      <th>Seg6Carrier</th>\n",
       "      <th>Seg6BookingCode</th>\n",
       "      <th>From</th>\n",
       "      <th>IsPublishedForNeg</th>\n",
       "      <th>IsFromInternet</th>\n",
       "      <th>IsFromVista</th>\n",
       "      <th>TerminalID</th>\n",
       "      <th>InternetOffice</th>\n",
       "    </tr>\n",
       "  </thead>\n",
       "  <tbody>\n",
       "    <tr>\n",
       "      <th>0</th>\n",
       "      <td>2013-01-01</td>\n",
       "      <td>20:25:57</td>\n",
       "      <td>MPT</td>\n",
       "      <td>624d8c3ac0b3a7ca03e3c167e0f48327</td>\n",
       "      <td>DE</td>\n",
       "      <td>TXL</td>\n",
       "      <td>AUH</td>\n",
       "      <td>1</td>\n",
       "      <td>2</td>\n",
       "      <td>TXL</td>\n",
       "      <td>...</td>\n",
       "      <td>NaN</td>\n",
       "      <td>NaN</td>\n",
       "      <td>NaN</td>\n",
       "      <td>NaN</td>\n",
       "      <td>1ASIWS</td>\n",
       "      <td>0</td>\n",
       "      <td>0</td>\n",
       "      <td>0</td>\n",
       "      <td>d41d8cd98f00b204e9800998ecf8427e</td>\n",
       "      <td>FRA</td>\n",
       "    </tr>\n",
       "    <tr>\n",
       "      <th>1</th>\n",
       "      <td>2013-01-01</td>\n",
       "      <td>10:15:33</td>\n",
       "      <td>MPT</td>\n",
       "      <td>b0af35b31588dc4ab06d5cf2986e8e02</td>\n",
       "      <td>MD</td>\n",
       "      <td>ATH</td>\n",
       "      <td>MIL</td>\n",
       "      <td>0</td>\n",
       "      <td>1</td>\n",
       "      <td>ATH</td>\n",
       "      <td>...</td>\n",
       "      <td>NaN</td>\n",
       "      <td>NaN</td>\n",
       "      <td>NaN</td>\n",
       "      <td>NaN</td>\n",
       "      <td>1ASIWS</td>\n",
       "      <td>0</td>\n",
       "      <td>0</td>\n",
       "      <td>0</td>\n",
       "      <td>d41d8cd98f00b204e9800998ecf8427e</td>\n",
       "      <td>KIV</td>\n",
       "    </tr>\n",
       "  </tbody>\n",
       "</table>\n",
       "<p>2 rows × 45 columns</p>\n",
       "</div>"
      ],
      "text/plain": [
       "         Date      Time TxnCode                          OfficeID Country  \\\n",
       "0  2013-01-01  20:25:57     MPT  624d8c3ac0b3a7ca03e3c167e0f48327      DE   \n",
       "1  2013-01-01  10:15:33     MPT  b0af35b31588dc4ab06d5cf2986e8e02      MD   \n",
       "\n",
       "  Origin Destination  RoundTrip  NbSegments Seg1Departure       ...        \\\n",
       "0    TXL         AUH          1           2           TXL       ...         \n",
       "1    ATH         MIL          0           1           ATH       ...         \n",
       "\n",
       "  Seg6Arrival Seg6Date Seg6Carrier  Seg6BookingCode    From IsPublishedForNeg  \\\n",
       "0         NaN      NaN         NaN              NaN  1ASIWS                 0   \n",
       "1         NaN      NaN         NaN              NaN  1ASIWS                 0   \n",
       "\n",
       "  IsFromInternet IsFromVista                        TerminalID  InternetOffice  \n",
       "0              0           0  d41d8cd98f00b204e9800998ecf8427e             FRA  \n",
       "1              0           0  d41d8cd98f00b204e9800998ecf8427e             KIV  \n",
       "\n",
       "[2 rows x 45 columns]"
      ]
     },
     "execution_count": 16,
     "metadata": {},
     "output_type": "execute_result"
    }
   ],
   "source": [
    "filepath = os.path.join(data_dir, data_files[1])\n",
    "dftemp = pd.read_csv(filepath, sep='^', compression='bz2', nrows=2)\n",
    "dftemp.head(2)"
   ]
  },
  {
   "cell_type": "code",
   "execution_count": 17,
   "metadata": {
    "collapsed": false
   },
   "outputs": [
    {
     "name": "stdout",
     "output_type": "stream",
     "text": [
      "['Date' 'Time' 'TxnCode' 'OfficeID' 'Country' 'Origin' 'Destination'\n",
      " 'RoundTrip' 'NbSegments' 'Seg1Departure' 'Seg1Arrival' 'Seg1Date'\n",
      " 'Seg1Carrier' 'Seg1BookingCode' 'Seg2Departure' 'Seg2Arrival' 'Seg2Date'\n",
      " 'Seg2Carrier' 'Seg2BookingCode' 'Seg3Departure' 'Seg3Arrival' 'Seg3Date'\n",
      " 'Seg3Carrier' 'Seg3BookingCode' 'Seg4Departure' 'Seg4Arrival' 'Seg4Date'\n",
      " 'Seg4Carrier' 'Seg4BookingCode' 'Seg5Departure' 'Seg5Arrival' 'Seg5Date'\n",
      " 'Seg5Carrier' 'Seg5BookingCode' 'Seg6Departure' 'Seg6Arrival' 'Seg6Date'\n",
      " 'Seg6Carrier' 'Seg6BookingCode' 'From' 'IsPublishedForNeg'\n",
      " 'IsFromInternet' 'IsFromVista' 'TerminalID' 'InternetOffice']\n"
     ]
    }
   ],
   "source": [
    "print(dftemp.columns.values)"
   ]
  },
  {
   "cell_type": "markdown",
   "metadata": {},
   "source": [
    "To extract the month of the search we use the feature *Date*.\n",
    "The feature *Seg1Date* will only be used afterwards."
   ]
  },
  {
   "cell_type": "code",
   "execution_count": 18,
   "metadata": {
    "collapsed": false
   },
   "outputs": [
    {
     "name": "stdout",
     "output_type": "stream",
     "text": [
      "total of 20390198 rows, 4 columns\n"
     ]
    },
    {
     "data": {
      "text/html": [
       "<div>\n",
       "<table border=\"1\" class=\"dataframe\">\n",
       "  <thead>\n",
       "    <tr style=\"text-align: right;\">\n",
       "      <th></th>\n",
       "      <th>Date</th>\n",
       "      <th>Origin</th>\n",
       "      <th>Destination</th>\n",
       "      <th>Seg1Date</th>\n",
       "    </tr>\n",
       "  </thead>\n",
       "  <tbody>\n",
       "    <tr>\n",
       "      <th>0</th>\n",
       "      <td>2013-01-01</td>\n",
       "      <td>TXL</td>\n",
       "      <td>AUH</td>\n",
       "      <td>2013-01-26</td>\n",
       "    </tr>\n",
       "    <tr>\n",
       "      <th>1</th>\n",
       "      <td>2013-01-01</td>\n",
       "      <td>ATH</td>\n",
       "      <td>MIL</td>\n",
       "      <td>2013-01-04</td>\n",
       "    </tr>\n",
       "  </tbody>\n",
       "</table>\n",
       "</div>"
      ],
      "text/plain": [
       "         Date Origin Destination    Seg1Date\n",
       "0  2013-01-01    TXL         AUH  2013-01-26\n",
       "1  2013-01-01    ATH         MIL  2013-01-04"
      ]
     },
     "execution_count": 18,
     "metadata": {},
     "output_type": "execute_result"
    }
   ],
   "source": [
    "sel_cols = ['Date', 'Origin', 'Destination', 'Seg1Date']\n",
    "dfS = pd.read_csv(filepath, sep='^', usecols=sel_cols, compression='bz2')\n",
    "print(\"total of %i rows, %i columns\" % (dfS.shape[0],dfS.shape[1]))\n",
    "dfS.head(2)"
   ]
  },
  {
   "cell_type": "code",
   "execution_count": 19,
   "metadata": {
    "collapsed": false
   },
   "outputs": [
    {
     "name": "stdout",
     "output_type": "stream",
     "text": [
      "\n",
      "\n",
      "***** Columns with NULL data:\n",
      "\n",
      "Destination       0.00016%\n",
      "Origin            0.00016%\n",
      "Seg1Date          0.28583%\n",
      "\n",
      "***** The other 1 columns have NO NULL values :)\n",
      "\n",
      "\n"
     ]
    }
   ],
   "source": [
    "# percentage of null data in dataset:\n",
    "print(\"\\n\\n***** Columns with NULL data:\\n\")\n",
    "n_cols_notnull = 0\n",
    "for col in sorted(list(dfS.columns)):\n",
    "    percent_null = float(dfS[col].isnull().sum()) / dfS.shape[0] * 100\n",
    "    if percent_null > 0:\n",
    "        print(\"{:15s}   {:.5f}%\".format(col, percent_null))\n",
    "    else:\n",
    "        n_cols_notnull += 1\n",
    "print(\"\\n***** The other %i columns have NO NULL values :)\\n\\n\" % n_cols_notnull)"
   ]
  },
  {
   "cell_type": "code",
   "execution_count": 20,
   "metadata": {
    "collapsed": false
   },
   "outputs": [],
   "source": [
    "# by now, we only drop rows with nulls in the 'Destination':\n",
    "dfS = dfS.dropna(subset=['Destination'])"
   ]
  },
  {
   "cell_type": "markdown",
   "metadata": {},
   "source": [
    "We were told to analyse the flights arriving at the cities of Málaga, Madrid and Barcelona. To do that, we will first infer the airport IATA code and name using the [Geobases](http://opentraveldata.github.io/geobases/) project:"
   ]
  },
  {
   "cell_type": "code",
   "execution_count": 21,
   "metadata": {
    "collapsed": false
   },
   "outputs": [
    {
     "name": "stdout",
     "output_type": "stream",
     "text": [
      "AGP  Málaga Airport          \tMalaga\n",
      "MAD  Madrid / Barajas         \tMadrid\n",
      "BCN  Barcelona–El Prat Airport\tBarcelona\n"
     ]
    }
   ],
   "source": [
    "Cities = ['Malaga', 'Madrid', 'Barcelona']\n",
    "geo_a = GeoBase(data='airports', verbose=False)\n",
    "Airp_codes = [geo_a.fuzzyFind(city,'name')[0][1] for city in Cities]\n",
    "for airp_code in Airp_codes:\n",
    "    print(\"{:4s} {:25s}\\t{:s}\".format(airp_code, geo_o.get(airp_code, 'name'), geo_o.get(airp_code, 'city_name_ascii')))"
   ]
  },
  {
   "cell_type": "markdown",
   "metadata": {},
   "source": [
    "We use the airport code to keep just the rows of the dataset corresponding to searches involving our 3 cities."
   ]
  },
  {
   "cell_type": "code",
   "execution_count": 22,
   "metadata": {
    "collapsed": false
   },
   "outputs": [],
   "source": [
    "dfSs = dfS[dfS['Destination'].isin(Airp_codes)][['Date','Destination']]\n",
    "# create the 'Month' column extracted from the 'Date'\n",
    "dfSs['Month'] = dfSs['Date'].apply(lambda x: int(x.split('-')[1]))\n",
    "# keep only the features that are interesting for exercise 3:\n",
    "dfSs = dfSs[['Destination', 'Month']]"
   ]
  },
  {
   "cell_type": "markdown",
   "metadata": {},
   "source": [
    "We group by destination and month, and count: "
   ]
  },
  {
   "cell_type": "code",
   "execution_count": 23,
   "metadata": {
    "collapsed": false
   },
   "outputs": [
    {
     "data": {
      "text/html": [
       "<div>\n",
       "<table border=\"1\" class=\"dataframe\">\n",
       "  <thead>\n",
       "    <tr style=\"text-align: right;\">\n",
       "      <th></th>\n",
       "      <th>Malaga</th>\n",
       "      <th>Madrid</th>\n",
       "      <th>Barcelona</th>\n",
       "    </tr>\n",
       "    <tr>\n",
       "      <th>Month</th>\n",
       "      <th></th>\n",
       "      <th></th>\n",
       "      <th></th>\n",
       "    </tr>\n",
       "  </thead>\n",
       "  <tbody>\n",
       "    <tr>\n",
       "      <th>1</th>\n",
       "      <td>9633</td>\n",
       "      <td>24258</td>\n",
       "      <td>29469</td>\n",
       "    </tr>\n",
       "    <tr>\n",
       "      <th>2</th>\n",
       "      <td>8379</td>\n",
       "      <td>22800</td>\n",
       "      <td>28329</td>\n",
       "    </tr>\n",
       "  </tbody>\n",
       "</table>\n",
       "</div>"
      ],
      "text/plain": [
       "       Malaga  Madrid  Barcelona\n",
       "Month                           \n",
       "1        9633   24258      29469\n",
       "2        8379   22800      28329"
      ]
     },
     "execution_count": 23,
     "metadata": {},
     "output_type": "execute_result"
    }
   ],
   "source": [
    "dfSm = pd.DataFrame()\n",
    "for Airp_code in Airp_codes:\n",
    "    dftemp = dfSs.groupby(['Destination', 'Month']).Month.count()[Airp_code].to_frame()\n",
    "    dftemp.columns = [geo_o.get(Airp_code, 'city_name_ascii')]\n",
    "    dfSm = pd.concat([dfSm, dftemp], axis=1)\n",
    "dfSm.head(2)"
   ]
  },
  {
   "cell_type": "markdown",
   "metadata": {},
   "source": [
    "And now we have **the plot** we were looking for:"
   ]
  },
  {
   "cell_type": "code",
   "execution_count": 24,
   "metadata": {
    "collapsed": false
   },
   "outputs": [
    {
     "data": {
      "text/plain": [
       "<matplotlib.text.Text at 0x7f7545dbbd10>"
      ]
     },
     "execution_count": 24,
     "metadata": {},
     "output_type": "execute_result"
    },
    {
     "data": {
      "image/png": "[encoded data removed]",
      "text/plain": [
       "<matplotlib.figure.Figure at 0x7f756a644d10>"
      ]
     },
     "metadata": {},
     "output_type": "display_data"
    }
   ],
   "source": [
    "ax = dfSm.plot(figsize=(10, 5))\n",
    "ax.set_xticks(dfSm.index)\n",
    "ax.set_xticklabels(['Jan', 'Feb', 'Mar', 'Apr', 'May', 'Jun', 'Jul', 'Aug', 'Sep', 'Oct', 'Nov', 'Dec'])\n",
    "ax.set_ylabel(\"Num. of Searches\")\n",
    "ax.set_title(\"Monthly number of searches for flights arriving at Malaga, Madrid or Barcelona\")"
   ]
  },
  {
   "cell_type": "markdown",
   "metadata": {},
   "source": [
    "---\n",
    "# Fourth exercise\n",
    "> *Match searches with bookings*\n",
    "\n",
    "To find whether a search ended up in a booking or not, we will look for entries with matching:\n",
    "- **Origin**\n",
    "- **Destination**\n",
    "- **Flight date**: features *brd_time* and *Seg1Date* in the bookings and searches datasets, respectively\n",
    "- **Search/Booking date**: features *date* and *act_date* in the bookings and searches datasets, respectively\n",
    "\n",
    "Notes:\n",
    "- the feature *cre_date* in the bookings dataset could also be used as the date of the booking. Implementing that leads to a reduction of 33% in the number of matches.\n",
    "- a possible improvement of these matching conditions would be to allow search dates to match bookings that happened within the next few days, instead of on the same day."
   ]
  },
  {
   "cell_type": "code",
   "execution_count": 25,
   "metadata": {
    "collapsed": false
   },
   "outputs": [],
   "source": [
    "# unify column names for the matching:\n",
    "new_col_names = ['Date_SearchBook', 'Origin','Destination', 'Date_Flight']\n",
    "dfB.columns = new_col_names\n",
    "dfS.columns = new_col_names\n",
    "# drop the rows with null dates\n",
    "dfS.dropna(inplace=True)\n",
    "# remove spaces after aiport codes:\n",
    "for col in ['Origin','Destination']:\n",
    "    dfB[col] = dfB[col].apply(lambda x: x.strip())\n",
    "    dfS[col] = dfS[col].apply(lambda x: x.strip())"
   ]
  },
  {
   "cell_type": "markdown",
   "metadata": {},
   "source": [
    "We will obtain a new dataframe which is the intersection of the 2 datasets. However, we are only interested in the **indices**, because they correspond to the **row numbers of the matches in the searches dataset**."
   ]
  },
  {
   "cell_type": "code",
   "execution_count": 26,
   "metadata": {
    "collapsed": false
   },
   "outputs": [
    {
     "name": "stdout",
     "output_type": "stream",
     "text": [
      "We found 37143 matches (entries in searches dataset).\n"
     ]
    }
   ],
   "source": [
    "dfS_Match = pd.merge(left=dfS, right=dfB, how='inner', on=new_col_names, right_index=True)\n",
    "idx_S_matches = np.unique(dfS_Match.index.values)\n",
    "print(\"We found %i matches (entries in searches dataset).\" % len(idx_S_matches))"
   ]
  },
  {
   "cell_type": "markdown",
   "metadata": {},
   "source": [
    "Now we add a new field to the searches dataset with values:\n",
    "- **0**: we found no booking matching this search :(\n",
    "- **1**: the search ended up in a booking :)\n",
    "\n",
    "and we store the updated dataset in a compressed csv file (searches_wB.csv.bz2) with the same format as the original one:"
   ]
  },
  {
   "cell_type": "code",
   "execution_count": 27,
   "metadata": {
    "collapsed": false
   },
   "outputs": [
    {
     "name": "stdout",
     "output_type": "stream",
     "text": [
      "Date^Time^TxnCode^OfficeID^Country^Origin^Destination^RoundTrip^NbSegments^Seg1Departure^Seg1Arrival^Seg1Date^Seg1Carrier^Seg1BookingCode^Seg2Departure^Seg2Arrival^Seg2Date^Seg2Carrier^Seg2BookingCode^Seg3Departure^Seg3Arrival^Seg3Date^Seg3Carrier^Seg3BookingCode^Seg4Departure^Seg4Arrival^Seg4Date^Seg4Carrier^Seg4BookingCode^Seg5Departure^Seg5Arrival^Seg5Date^Seg5Carrier^Seg5BookingCode^Seg6Departure^Seg6Arrival^Seg6Date^Seg6Carrier^Seg6BookingCode^From^IsPublishedForNeg^IsFromInternet^IsFromVista^TerminalID^InternetOffice^Booking\n",
      "\n",
      "2013-01-01^20:25:57^MPT^624d8c3ac0b3a7ca03e3c167e0f48327^DE^TXL^AUH^1^2^TXL^AUH^2013-01-26^D2^^AUH^TXL^2013-02-02^D2^^^^^^^^^^^^^^^^^^^^^^1ASIWS^0^0^0^d41d8cd98f00b204e9800998ecf8427e^FRA^0\n",
      "\n",
      "2013-01-01^10:15:33^MPT^b0af35b31588dc4ab06d5cf2986e8e02^MD^ATH^MIL^0^1^ATH^MIL^2013-01-04^^^^^^^^^^^^^^^^^^^^^^^^^^^^1ASIWS^0^0^0^d41d8cd98f00b204e9800998ecf8427e^KIV^0\n",
      "\n",
      "2013-01-01^18:04:49^MPT^3561a60621de06ab1badc8ca55699ef3^US^ICT^SFO^1^2^ICT^SFO^2013-08-02^^^SFO^ICT^2013-08-09^^^^^^^^^^^^^^^^^^^^^^^1ASIWS^0^0^0^d41d8cd98f00b204e9800998ecf8427e^NYC^0\n",
      "\n",
      "2013-01-01^17:42:40^FXP^1864e5e8013d9414150e91d26b6a558b^SE^RNB^ARN^0^1^RNB^ARN^2013-01-02^DU^W^^^^^^^^^^^^^^^^^^^^^^^^^^1ASI^0^0^0^d41d8cd98f00b204e9800998ecf8427e^STO^0\n",
      "\n",
      "2013-01-01^17:48:29^MPT^1ec336348f44207d2e0027dc3a68c118^NO^OSL^MAD^1^2^OSL^MAD^2013-03-22^^^MAD^OSL^2013-03-31^^^^^^^^^^^^^^^^^^^^^^^1ASIWS^0^0^0^d41d8cd98f00b204e9800998ecf8427e^OSL^0\n",
      "\n",
      "Writing file: /data/storage/projects/TravelAudience/searches_match.csv.bz2...\n",
      "\n",
      "(please be aware that it may take about 2h)\n",
      "...done\n"
     ]
    }
   ],
   "source": [
    "filepath = os.path.join(data_dir, data_files[1])\n",
    "newfilepath = filepath[:-8] + '_match.csv.bz2'\n",
    "# print first 4 rows as an example:\n",
    "with bz2.BZ2File(filepath, 'rb') as or_file:\n",
    "    for i,line in enumerate(or_file):\n",
    "        if i==0:\n",
    "            print line[:-1]+'^Booking\\n'\n",
    "        elif i==6:\n",
    "            break\n",
    "        else:\n",
    "            print line[:-1]+'^1\\n' if ((i-1) in idx_S_matches) else line[:-1]+'^0\\n'\n",
    "# write compressed file:\n",
    "print(\"Writing file: %s...\\n\" % newfilepath)\n",
    "print(\"(please be aware that it may take about 2h)\")\n",
    "with bz2.BZ2File(newfilepath, 'wb') as new_file, bz2.BZ2File(filepath, 'rb') as or_file:\n",
    "    for i,line in enumerate(or_file):\n",
    "        if i==0:\n",
    "            new_file.write(line[:-1]+'^Booking\\n')\n",
    "        elif (i-1) in idx_S_matches:\n",
    "            new_file.write(line[:-1] + '^1\\n')\n",
    "        else:\n",
    "            new_file.write(line[:-1] + '^0\\n')\n",
    "print(\"...done\")"
   ]
  }
 ],
 "metadata": {
  "kernelspec": {
   "display_name": "Python 2",
   "language": "python",
   "name": "python2"
  },
  "language_info": {
   "codemirror_mode": {
    "name": "ipython",
    "version": 2
   },
   "file_extension": ".py",
   "mimetype": "text/x-python",
   "name": "python",
   "nbconvert_exporter": "python",
   "pygments_lexer": "ipython2",
   "version": "2.7.10"
  }
 },
 "nbformat": 4,
 "nbformat_minor": 0
}
