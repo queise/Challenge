{
 "cells": [
  {
   "cell_type": "markdown",
   "metadata": {},
   "source": [
    "---\n",
    "## Fifth exercise\n",
    "*Do I hit the target?*\n",
    "\n",
    "*Our fantastic Office Manager Charlotte has organized a competition between travel audience employees for the company  summer event 2015: the goal of the game is to hit with a ball a target located on the wall. The first six people have obtained the following results:*\n",
    "\n",
    "Player | Shots | Hits\n",
    "---|---|---\n",
    "Kathrin | 100 | 1\n",
    "Arnaud | 300 | 1\n",
    "Jan | 50 | 10\n",
    "Maria | 200 | 2\n",
    "Cristina | 100 | 0\n",
    "Dominik | 150 | 4\n",
    "\n",
    "*Now it is the turn of Antje.*\n",
    " \n",
    "*What is the probability (based on previous employees results) that she will hit the target?*\n",
    " \n",
    "*Take into consideration the followings:*\n",
    "- *the number of shots between players is unbalanced*\n",
    "- *some players may have been cheating*\n",
    "\n",
    "---"
   ]
  },
  {
   "cell_type": "code",
   "execution_count": 1,
   "metadata": {
    "collapsed": false
   },
   "outputs": [],
   "source": [
    "import numpy as np\n",
    "from scipy.stats import binom\n",
    "import math as m\n",
    "import matplotlib.pyplot as plt\n",
    "import seaborn as sns\n",
    "%matplotlib inline"
   ]
  },
  {
   "cell_type": "markdown",
   "metadata": {},
   "source": [
    "We will first **explore the data to remove the outliers (the cheaters):**"
   ]
  },
  {
   "cell_type": "code",
   "execution_count": 2,
   "metadata": {
    "collapsed": true
   },
   "outputs": [],
   "source": [
    "# load the data in a dict\n",
    "results = {\"Kathrin\": [100,1], \"Arnaud\": [300,1], \"Jan\": [50,10],\n",
    "           \"Maria\": [200,2], \"Cristina\": [100,0], \"Dominik\": [150,4]}"
   ]
  },
  {
   "cell_type": "code",
   "execution_count": 3,
   "metadata": {
    "collapsed": false
   },
   "outputs": [
    {
     "name": "stdout",
     "output_type": "stream",
     "text": [
      "Player       Shots \t Hits \t Skill \n",
      "\n",
      "Kathrin      100 \t 1 \t 0.01\n",
      "Arnaud       300 \t 1 \t 0.00\n",
      "Jan          50 \t 10 \t 0.20\n",
      "Dominik      150 \t 4 \t 0.03\n",
      "Cristina     100 \t 0 \t 0.00\n",
      "Maria        200 \t 2 \t 0.01\n"
     ]
    }
   ],
   "source": [
    "# calculate the skill (hits/shots) of each player\n",
    "print (\"%-*s %s \\t %s \\t %s \\n\" % (12,\"Player\", \"Shots\", \"Hits\", \"Skill\"))\n",
    "for person in results:\n",
    "    skill = float(results[person][1]) / results[person][0]\n",
    "    results[person].append(skill)\n",
    "    print(\"%-*s %i \\t %i \\t %.2f\" % (12, person, results[person][0], results[person][1], results[person][2]))"
   ]
  },
  {
   "cell_type": "code",
   "execution_count": 4,
   "metadata": {
    "collapsed": false
   },
   "outputs": [
    {
     "data": {
      "text/plain": [
       "<matplotlib.text.Text at 0x7fde336353d0>"
      ]
     },
     "execution_count": 4,
     "metadata": {},
     "output_type": "execute_result"
    },
    {
     "data": {
      "image/png": "[encoded data removed]",
      "text/plain": [
       "<matplotlib.figure.Figure at 0x7fde282eec50>"
      ]
     },
     "metadata": {},
     "output_type": "display_data"
    }
   ],
   "source": [
    "# plot the skill of each player (who is cheating?)\n",
    "x = np.arange(len(results))\n",
    "skills = [results[person][2] for person in results]\n",
    "fig, ax = plt.subplots(figsize=(10,5))\n",
    "ax.barh(x, skills, color=sns.color_palette(\"Set1\", len(results), desat=.5))\n",
    "ax.set_yticks(x + 0.5)\n",
    "ax.set_yticklabels([person for person in results])\n",
    "ax.set_xlabel(\"Skill (Hits/Shots)\")"
   ]
  },
  {
   "cell_type": "markdown",
   "metadata": {},
   "source": [
    "Clearly, **Jan has been cheating**. As we will base the probability that Antje will hit the target on previous employees results, it's better to remove Jan from the data.\n",
    "\n",
    "We have detected the cheater **visually**. We will now do that **numerically**, applying a basic detection of outliers based on the interquartile range."
   ]
  },
  {
   "cell_type": "code",
   "execution_count": 5,
   "metadata": {
    "collapsed": false
   },
   "outputs": [
    {
     "name": "stdout",
     "output_type": "stream",
     "text": [
      "['Jan']\n"
     ]
    }
   ],
   "source": [
    "q75, q25 = np.percentile(skills, [75 ,25])\n",
    "iqr = q75 - q25\n",
    "max_skill = q75+(iqr*1.5)\n",
    "cheaters = [person for person in results if results[person][2]>max_skill]\n",
    "print cheaters"
   ]
  },
  {
   "cell_type": "markdown",
   "metadata": {},
   "source": [
    "So **let's remove Jan**..."
   ]
  },
  {
   "cell_type": "code",
   "execution_count": 6,
   "metadata": {
    "collapsed": true
   },
   "outputs": [],
   "source": [
    "del results[\"Jan\"]"
   ]
  },
  {
   "cell_type": "markdown",
   "metadata": {},
   "source": [
    "... and do some descriptive statistics with the clean dataset:"
   ]
  },
  {
   "cell_type": "code",
   "execution_count": 7,
   "metadata": {
    "collapsed": false
   },
   "outputs": [
    {
     "name": "stdout",
     "output_type": "stream",
     "text": [
      "The average player:\n",
      "---\n",
      "Shots: \t 170 +- 75\n",
      "Hits: \t 2 +- 1\n",
      "Skill:\t 0.01 +- 0.01\n"
     ]
    }
   ],
   "source": [
    "shots = [results[person][0] for person in results]\n",
    "hits = [results[person][1] for person in results]\n",
    "skills = [results[person][2] for person in results]\n",
    "print \"The average player:\\n---\"\n",
    "print(\"Shots: \\t %i +- %i\" % (round(np.mean(shots)),round(np.std(shots))))\n",
    "print(\"Hits: \\t %i +- %i\" % (round(np.mean(hits)),round(np.std(hits))))\n",
    "print(\"Skill:\\t %.2f +- %.2f\" % (np.mean(skills),np.std(skills)))"
   ]
  },
  {
   "cell_type": "markdown",
   "metadata": {},
   "source": [
    "Now, we will **assume that Antje has the same average skill of her colleagues**.\n",
    "\n",
    "Thus, the probability that Antje scores 1 hit from 1 shot is 1%.\n",
    "$$p=0.01$$"
   ]
  },
  {
   "cell_type": "markdown",
   "metadata": {},
   "source": [
    "However, if Antje shoots several times the probability of scoring 1 hit increases. Doing $n$ shots, the probability of hitting the target $k$ times follows the binomial distribution:\n",
    "\n",
    "$$P(k) = \\left( {\\begin{array}{*{20}c} n \\\\ k \\\\ \\end{array}} \\right) p^k (1-p)^{n-k}$$\n",
    "\n",
    "Assuming that Antje will try a number of shots equal to the average of attempts done by her colleagues ($n=170$), the probability that Antje will hit the target $k$ times is:"
   ]
  },
  {
   "cell_type": "code",
   "execution_count": 8,
   "metadata": {
    "collapsed": false
   },
   "outputs": [
    {
     "data": {
      "text/plain": [
       "<matplotlib.text.Text at 0x7fddefd59c90>"
      ]
     },
     "execution_count": 8,
     "metadata": {},
     "output_type": "execute_result"
    },
    {
     "data": {
      "image/png": "[encoded data removed]",
      "text/plain": [
       "<matplotlib.figure.Figure at 0x7fddf37f6410>"
      ]
     },
     "metadata": {},
     "output_type": "display_data"
    }
   ],
   "source": [
    "n = np.mean(shots)\n",
    "p = np.mean(skills)\n",
    "x = np.arange(binom.ppf(0.01, n, p), binom.ppf(0.9999, n, p))\n",
    "fig, ax = plt.subplots(figsize=(10,5))\n",
    "ax.bar(x, binom.pmf(x, n, p), color=sns.color_palette(\"Blues_r\", len(x)))\n",
    "ax.set_xticklabels(x.astype(np.int))\n",
    "ax.set_xticks(x + 0.5)\n",
    "ax.set_xlabel(\"Number of Hits ($k$)\")\n",
    "ax.set_ylabel(\"Probability\")\n",
    "ax.set_title(\"Probability of Antje hitting the target $k$ times in %i shots\" % n)"
   ]
  },
  {
   "cell_type": "code",
   "execution_count": 9,
   "metadata": {
    "collapsed": false
   },
   "outputs": [
    {
     "name": "stdout",
     "output_type": "stream",
     "text": [
      "So most likely she will hit the target 2 +/- 1 times\n"
     ]
    }
   ],
   "source": [
    "mean = n * p\n",
    "sigma = ( n * p * (1-p) )**0.5\n",
    "print(\"So most likely she will hit the target %i +/- %i times\" % (round(mean),round(sigma)))"
   ]
  },
  {
   "cell_type": "markdown",
   "metadata": {},
   "source": [
    "And the probabilty that Antje hits the target at least 1 time in 170 attempts is:"
   ]
  },
  {
   "cell_type": "code",
   "execution_count": 10,
   "metadata": {
    "collapsed": false
   },
   "outputs": [
    {
     "name": "stdout",
     "output_type": "stream",
     "text": [
      "0.82\n"
     ]
    }
   ],
   "source": [
    "prob_Antje_hits = np.sum(binom.pmf(x, n, p)[1:])\n",
    "print(\"%.2f\" % prob_Antje_hits)"
   ]
  },
  {
   "cell_type": "markdown",
   "metadata": {},
   "source": [
    "So there is an **82% of probability that Antje will hit the target** if she tries the average number of attempts of her colleagues.\n",
    "\n",
    "This was the answer we were looking for. It looks like Antje will probably hit the target now that her turn has arrived. Let's go Antje!\n",
    "\n",
    "As an **extra**, we will now calculate this probability for any number of attempts $n$ than Antje may try:"
   ]
  },
  {
   "cell_type": "code",
   "execution_count": 11,
   "metadata": {
    "collapsed": false
   },
   "outputs": [
    {
     "name": "stderr",
     "output_type": "stream",
     "text": [
      "/data/anaconda/lib/python2.7/site-packages/scipy/stats/_discrete_distns.py:64: RuntimeWarning: floating point number truncated to an integer\n",
      "  temp = special.bdtr(vals1, n, p)\n"
     ]
    }
   ],
   "source": [
    "ns = np.arange(0,301,1)\n",
    "probs_min1hit = []\n",
    "for n in ns:\n",
    "    x = np.arange(binom.ppf(0.01, n, p), binom.ppf(0.9999, n, p)).astype(int)\n",
    "    probs_min1hit.append(np.sum(binom.pmf(x, n, p)[1:]))\n",
    "    #print(\"n=%i \\t prob=%.5f\" % (n, np.sum(binom.pmf(x, n, p)[1:])))"
   ]
  },
  {
   "cell_type": "code",
   "execution_count": 12,
   "metadata": {
    "collapsed": false
   },
   "outputs": [
    {
     "data": {
      "text/plain": [
       "<matplotlib.text.Text at 0x7fddefc8a110>"
      ]
     },
     "execution_count": 12,
     "metadata": {},
     "output_type": "execute_result"
    },
    {
     "data": {
      "image/png": "[encoded data removed]",
      "text/plain": [
       "<matplotlib.figure.Figure at 0x7fddf3abccd0>"
      ]
     },
     "metadata": {},
     "output_type": "display_data"
    }
   ],
   "source": [
    "fig, ax = plt.subplots(figsize=(10,5))\n",
    "ax.plot(ns, probs_min1hit)\n",
    "ax.set_xlabel(\"Number of shots ($n$)\")\n",
    "ax.set_ylabel(\"Probability of at least 1 Hit\")\n",
    "ax.set_title(\"Probability of Antje hitting the target at least 1 time in n shots\")"
   ]
  },
  {
   "cell_type": "markdown",
   "metadata": {},
   "source": [
    "So Antje, don't despair if you don't hit! Just continue trying. If you try 300 shots, the probability you will hit is 95%."
   ]
  }
 ],
 "metadata": {
  "kernelspec": {
   "display_name": "Python 2",
   "language": "python",
   "name": "python2"
  },
  "language_info": {
   "codemirror_mode": {
    "name": "ipython",
    "version": 2
   },
   "file_extension": ".py",
   "mimetype": "text/x-python",
   "name": "python",
   "nbconvert_exporter": "python",
   "pygments_lexer": "ipython2",
   "version": "2.7.10"
  }
 },
 "nbformat": 4,
 "nbformat_minor": 0
}
